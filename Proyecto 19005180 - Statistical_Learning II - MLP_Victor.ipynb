{
 "cells": [
  {
   "cell_type": "markdown",
   "metadata": {},
   "source": [
    "### Victor Rene Pérez Mayen.\n",
    "### 19005180\n",
    "\n",
    "### Proyecto Statistical Learning II\n",
    "\n",
    "#### MLP"
   ]
  },
  {
   "cell_type": "code",
   "execution_count": 1,
   "metadata": {},
   "outputs": [
    {
     "name": "stderr",
     "output_type": "stream",
     "text": [
      "Using TensorFlow backend.\n"
     ]
    }
   ],
   "source": [
    "import numpy as np, pandas as pd, matplotlib.pyplot as plt\n",
    "from sklearn.model_selection import train_test_split\n",
    "from keras.models import Sequential\n",
    "from keras.layers import Dense, BatchNormalization\n",
    "from keras.callbacks import EarlyStopping,ModelCheckpoint"
   ]
  },
  {
   "cell_type": "markdown",
   "metadata": {},
   "source": [
    "***\n",
    "## Análisis exploratorio de datos"
   ]
  },
  {
   "cell_type": "code",
   "execution_count": 2,
   "metadata": {},
   "outputs": [
    {
     "data": {
      "text/html": [
       "<div>\n",
       "<style scoped>\n",
       "    .dataframe tbody tr th:only-of-type {\n",
       "        vertical-align: middle;\n",
       "    }\n",
       "\n",
       "    .dataframe tbody tr th {\n",
       "        vertical-align: top;\n",
       "    }\n",
       "\n",
       "    .dataframe thead th {\n",
       "        text-align: right;\n",
       "    }\n",
       "</style>\n",
       "<table border=\"1\" class=\"dataframe\">\n",
       "  <thead>\n",
       "    <tr style=\"text-align: right;\">\n",
       "      <th></th>\n",
       "      <th>AT</th>\n",
       "      <th>V</th>\n",
       "      <th>AP</th>\n",
       "      <th>RH</th>\n",
       "      <th>PE</th>\n",
       "    </tr>\n",
       "  </thead>\n",
       "  <tbody>\n",
       "    <tr>\n",
       "      <th>0</th>\n",
       "      <td>14.96</td>\n",
       "      <td>41.76</td>\n",
       "      <td>1024.07</td>\n",
       "      <td>73.17</td>\n",
       "      <td>463.26</td>\n",
       "    </tr>\n",
       "    <tr>\n",
       "      <th>1</th>\n",
       "      <td>25.18</td>\n",
       "      <td>62.96</td>\n",
       "      <td>1020.04</td>\n",
       "      <td>59.08</td>\n",
       "      <td>444.37</td>\n",
       "    </tr>\n",
       "    <tr>\n",
       "      <th>2</th>\n",
       "      <td>5.11</td>\n",
       "      <td>39.40</td>\n",
       "      <td>1012.16</td>\n",
       "      <td>92.14</td>\n",
       "      <td>488.56</td>\n",
       "    </tr>\n",
       "    <tr>\n",
       "      <th>3</th>\n",
       "      <td>20.86</td>\n",
       "      <td>57.32</td>\n",
       "      <td>1010.24</td>\n",
       "      <td>76.64</td>\n",
       "      <td>446.48</td>\n",
       "    </tr>\n",
       "    <tr>\n",
       "      <th>4</th>\n",
       "      <td>10.82</td>\n",
       "      <td>37.50</td>\n",
       "      <td>1009.23</td>\n",
       "      <td>96.62</td>\n",
       "      <td>473.90</td>\n",
       "    </tr>\n",
       "    <tr>\n",
       "      <th>5</th>\n",
       "      <td>26.27</td>\n",
       "      <td>59.44</td>\n",
       "      <td>1012.23</td>\n",
       "      <td>58.77</td>\n",
       "      <td>443.67</td>\n",
       "    </tr>\n",
       "    <tr>\n",
       "      <th>6</th>\n",
       "      <td>15.89</td>\n",
       "      <td>43.96</td>\n",
       "      <td>1014.02</td>\n",
       "      <td>75.24</td>\n",
       "      <td>467.35</td>\n",
       "    </tr>\n",
       "    <tr>\n",
       "      <th>7</th>\n",
       "      <td>9.48</td>\n",
       "      <td>44.71</td>\n",
       "      <td>1019.12</td>\n",
       "      <td>66.43</td>\n",
       "      <td>478.42</td>\n",
       "    </tr>\n",
       "    <tr>\n",
       "      <th>8</th>\n",
       "      <td>14.64</td>\n",
       "      <td>45.00</td>\n",
       "      <td>1021.78</td>\n",
       "      <td>41.25</td>\n",
       "      <td>475.98</td>\n",
       "    </tr>\n",
       "    <tr>\n",
       "      <th>9</th>\n",
       "      <td>11.74</td>\n",
       "      <td>43.56</td>\n",
       "      <td>1015.14</td>\n",
       "      <td>70.72</td>\n",
       "      <td>477.50</td>\n",
       "    </tr>\n",
       "  </tbody>\n",
       "</table>\n",
       "</div>"
      ],
      "text/plain": [
       "      AT      V       AP     RH      PE\n",
       "0  14.96  41.76  1024.07  73.17  463.26\n",
       "1  25.18  62.96  1020.04  59.08  444.37\n",
       "2   5.11  39.40  1012.16  92.14  488.56\n",
       "3  20.86  57.32  1010.24  76.64  446.48\n",
       "4  10.82  37.50  1009.23  96.62  473.90\n",
       "5  26.27  59.44  1012.23  58.77  443.67\n",
       "6  15.89  43.96  1014.02  75.24  467.35\n",
       "7   9.48  44.71  1019.12  66.43  478.42\n",
       "8  14.64  45.00  1021.78  41.25  475.98\n",
       "9  11.74  43.56  1015.14  70.72  477.50"
      ]
     },
     "execution_count": 2,
     "metadata": {},
     "output_type": "execute_result"
    }
   ],
   "source": [
    "data_set = pd.read_csv(\"Folds5x2_pp.csv\", sep = \";\", encoding = \"ISO-8859-1\")\n",
    "data_set.head(10)"
   ]
  },
  {
   "cell_type": "code",
   "execution_count": 3,
   "metadata": {},
   "outputs": [
    {
     "data": {
      "text/plain": [
       "(47840, 5)"
      ]
     },
     "execution_count": 3,
     "metadata": {},
     "output_type": "execute_result"
    }
   ],
   "source": [
    "data_shape = data_set.shape\n",
    "data_shape"
   ]
  },
  {
   "cell_type": "code",
   "execution_count": 4,
   "metadata": {},
   "outputs": [
    {
     "data": {
      "text/plain": [
       "AT    0\n",
       "V     0\n",
       "AP    0\n",
       "RH    0\n",
       "PE    0\n",
       "dtype: int64"
      ]
     },
     "execution_count": 4,
     "metadata": {},
     "output_type": "execute_result"
    }
   ],
   "source": [
    "#Se buscan los Null\n",
    "np.sum(data_set.isnull())"
   ]
  },
  {
   "cell_type": "markdown",
   "metadata": {},
   "source": [
    "***\n",
    "#### Data y\n",
    "Se hace one hot encoding para las label"
   ]
  },
  {
   "cell_type": "code",
   "execution_count": 5,
   "metadata": {},
   "outputs": [
    {
     "data": {
      "text/plain": [
       "(47840,)"
      ]
     },
     "execution_count": 5,
     "metadata": {},
     "output_type": "execute_result"
    }
   ],
   "source": [
    "data_y = data_set[\"PE\"]\n",
    "data_y.shape"
   ]
  },
  {
   "cell_type": "markdown",
   "metadata": {},
   "source": [
    "#### Data X"
   ]
  },
  {
   "cell_type": "code",
   "execution_count": 6,
   "metadata": {},
   "outputs": [
    {
     "data": {
      "text/plain": [
       "Index(['AT', 'V', 'AP', 'RH', 'PE'], dtype='object')"
      ]
     },
     "execution_count": 6,
     "metadata": {},
     "output_type": "execute_result"
    }
   ],
   "source": [
    "col_name = data_set.columns\n",
    "col_name"
   ]
  },
  {
   "cell_type": "code",
   "execution_count": 7,
   "metadata": {},
   "outputs": [
    {
     "data": {
      "text/plain": [
       "Index(['AT', 'V', 'AP', 'RH'], dtype='object')"
      ]
     },
     "execution_count": 7,
     "metadata": {},
     "output_type": "execute_result"
    }
   ],
   "source": [
    "col_x = col_name.drop(\"PE\")\n",
    "col_x"
   ]
  },
  {
   "cell_type": "code",
   "execution_count": 8,
   "metadata": {},
   "outputs": [
    {
     "data": {
      "text/plain": [
       "(47840, 4)"
      ]
     },
     "execution_count": 8,
     "metadata": {},
     "output_type": "execute_result"
    }
   ],
   "source": [
    "data_x = data_set[col_x]\n",
    "data_x.shape"
   ]
  },
  {
   "cell_type": "code",
   "execution_count": 9,
   "metadata": {},
   "outputs": [
    {
     "data": {
      "text/html": [
       "<div>\n",
       "<style scoped>\n",
       "    .dataframe tbody tr th:only-of-type {\n",
       "        vertical-align: middle;\n",
       "    }\n",
       "\n",
       "    .dataframe tbody tr th {\n",
       "        vertical-align: top;\n",
       "    }\n",
       "\n",
       "    .dataframe thead th {\n",
       "        text-align: right;\n",
       "    }\n",
       "</style>\n",
       "<table border=\"1\" class=\"dataframe\">\n",
       "  <thead>\n",
       "    <tr style=\"text-align: right;\">\n",
       "      <th></th>\n",
       "      <th>AT</th>\n",
       "      <th>V</th>\n",
       "      <th>AP</th>\n",
       "      <th>RH</th>\n",
       "    </tr>\n",
       "  </thead>\n",
       "  <tbody>\n",
       "    <tr>\n",
       "      <th>0</th>\n",
       "      <td>14.96</td>\n",
       "      <td>41.76</td>\n",
       "      <td>1024.07</td>\n",
       "      <td>73.17</td>\n",
       "    </tr>\n",
       "    <tr>\n",
       "      <th>1</th>\n",
       "      <td>25.18</td>\n",
       "      <td>62.96</td>\n",
       "      <td>1020.04</td>\n",
       "      <td>59.08</td>\n",
       "    </tr>\n",
       "    <tr>\n",
       "      <th>2</th>\n",
       "      <td>5.11</td>\n",
       "      <td>39.40</td>\n",
       "      <td>1012.16</td>\n",
       "      <td>92.14</td>\n",
       "    </tr>\n",
       "    <tr>\n",
       "      <th>3</th>\n",
       "      <td>20.86</td>\n",
       "      <td>57.32</td>\n",
       "      <td>1010.24</td>\n",
       "      <td>76.64</td>\n",
       "    </tr>\n",
       "    <tr>\n",
       "      <th>4</th>\n",
       "      <td>10.82</td>\n",
       "      <td>37.50</td>\n",
       "      <td>1009.23</td>\n",
       "      <td>96.62</td>\n",
       "    </tr>\n",
       "  </tbody>\n",
       "</table>\n",
       "</div>"
      ],
      "text/plain": [
       "      AT      V       AP     RH\n",
       "0  14.96  41.76  1024.07  73.17\n",
       "1  25.18  62.96  1020.04  59.08\n",
       "2   5.11  39.40  1012.16  92.14\n",
       "3  20.86  57.32  1010.24  76.64\n",
       "4  10.82  37.50  1009.23  96.62"
      ]
     },
     "execution_count": 9,
     "metadata": {},
     "output_type": "execute_result"
    }
   ],
   "source": [
    "data_x.head()"
   ]
  },
  {
   "cell_type": "markdown",
   "metadata": {},
   "source": [
    "#### Split data_test y data_train"
   ]
  },
  {
   "cell_type": "code",
   "execution_count": 10,
   "metadata": {},
   "outputs": [],
   "source": [
    "x_train, x_test, y_train, y_test = train_test_split(data_x, data_y, test_size = 0.2, random_state = 0)"
   ]
  },
  {
   "cell_type": "markdown",
   "metadata": {},
   "source": [
    "***\n",
    "### Construcción modelo"
   ]
  },
  {
   "cell_type": "code",
   "execution_count": 11,
   "metadata": {
    "scrolled": true
   },
   "outputs": [
    {
     "name": "stdout",
     "output_type": "stream",
     "text": [
      "WARNING:tensorflow:From C:\\Users\\Jose\\Anaconda3\\lib\\site-packages\\keras\\backend\\tensorflow_backend.py:74: The name tf.get_default_graph is deprecated. Please use tf.compat.v1.get_default_graph instead.\n",
      "\n",
      "WARNING:tensorflow:From C:\\Users\\Jose\\Anaconda3\\lib\\site-packages\\keras\\backend\\tensorflow_backend.py:517: The name tf.placeholder is deprecated. Please use tf.compat.v1.placeholder instead.\n",
      "\n",
      "WARNING:tensorflow:From C:\\Users\\Jose\\Anaconda3\\lib\\site-packages\\keras\\backend\\tensorflow_backend.py:4138: The name tf.random_uniform is deprecated. Please use tf.random.uniform instead.\n",
      "\n",
      "WARNING:tensorflow:From C:\\Users\\Jose\\Anaconda3\\lib\\site-packages\\keras\\backend\\tensorflow_backend.py:133: The name tf.placeholder_with_default is deprecated. Please use tf.compat.v1.placeholder_with_default instead.\n",
      "\n",
      "WARNING:tensorflow:From C:\\Users\\Jose\\Anaconda3\\lib\\site-packages\\keras\\optimizers.py:790: The name tf.train.Optimizer is deprecated. Please use tf.compat.v1.train.Optimizer instead.\n",
      "\n",
      "_________________________________________________________________\n",
      "Layer (type)                 Output Shape              Param #   \n",
      "=================================================================\n",
      "dense_1 (Dense)              (None, 32)                160       \n",
      "_________________________________________________________________\n",
      "batch_normalization_1 (Batch (None, 32)                128       \n",
      "_________________________________________________________________\n",
      "dense_2 (Dense)              (None, 32)                1056      \n",
      "_________________________________________________________________\n",
      "batch_normalization_2 (Batch (None, 32)                128       \n",
      "_________________________________________________________________\n",
      "dense_3 (Dense)              (None, 32)                1056      \n",
      "_________________________________________________________________\n",
      "batch_normalization_3 (Batch (None, 32)                128       \n",
      "_________________________________________________________________\n",
      "dense_4 (Dense)              (None, 1)                 33        \n",
      "=================================================================\n",
      "Total params: 2,689\n",
      "Trainable params: 2,497\n",
      "Non-trainable params: 192\n",
      "_________________________________________________________________\n"
     ]
    }
   ],
   "source": [
    "model_1 = Sequential()\n",
    "model_1.add(Dense(32, input_shape = (4, ), activation = \"relu\"))\n",
    "model_1.add(BatchNormalization())\n",
    "model_1.add(Dense(32, activation = \"relu\"))\n",
    "model_1.add(BatchNormalization())\n",
    "model_1.add(Dense(32, activation = \"relu\"))\n",
    "model_1.add(BatchNormalization())\n",
    "model_1.add(Dense(1, activation = \"linear\"))\n",
    "model_1.compile(loss = \"mean_squared_error\", optimizer = \"adam\", metrics = [\"mse\"])\n",
    "model_1.summary()"
   ]
  },
  {
   "cell_type": "code",
   "execution_count": 12,
   "metadata": {},
   "outputs": [
    {
     "name": "stdout",
     "output_type": "stream",
     "text": [
      "WARNING:tensorflow:From C:\\Users\\Jose\\Anaconda3\\lib\\site-packages\\keras\\backend\\tensorflow_backend.py:986: The name tf.assign_add is deprecated. Please use tf.compat.v1.assign_add instead.\n",
      "\n",
      "Train on 30617 samples, validate on 7655 samples\n",
      "Epoch 1/100\n",
      "30617/30617 [==============================] - 3s 111us/step - loss: 204724.4500 - mean_squared_error: 204724.4500 - val_loss: 200777.7965 - val_mean_squared_error: 200777.7965\n"
     ]
    },
    {
     "name": "stderr",
     "output_type": "stream",
     "text": [
      "C:\\Users\\Jose\\Anaconda3\\lib\\site-packages\\keras\\callbacks.py:569: RuntimeWarning: Early stopping conditioned on metric `mse` which is not available. Available metrics are: val_loss,val_mean_squared_error,loss,mean_squared_error\n",
      "  (self.monitor, ','.join(list(logs.keys()))), RuntimeWarning\n"
     ]
    },
    {
     "name": "stdout",
     "output_type": "stream",
     "text": [
      "Epoch 2/100\n",
      "30617/30617 [==============================] - 2s 51us/step - loss: 195904.2763 - mean_squared_error: 195904.2763 - val_loss: 202621.9773 - val_mean_squared_error: 202621.9773\n",
      "Epoch 3/100\n",
      "30617/30617 [==============================] - 1s 45us/step - loss: 179697.0547 - mean_squared_error: 179697.0547 - val_loss: 196972.2395 - val_mean_squared_error: 196972.2395\n",
      "Epoch 4/100\n",
      "30617/30617 [==============================] - 1s 31us/step - loss: 157948.5257 - mean_squared_error: 157948.5257 - val_loss: 158825.7123 - val_mean_squared_error: 158825.7123\n",
      "Epoch 5/100\n",
      "30617/30617 [==============================] - 1s 41us/step - loss: 132960.5730 - mean_squared_error: 132960.5730 - val_loss: 111807.6708 - val_mean_squared_error: 111807.6708\n",
      "Epoch 6/100\n",
      "30617/30617 [==============================] - 1s 30us/step - loss: 106958.8140 - mean_squared_error: 106958.8140 - val_loss: 94951.3450 - val_mean_squared_error: 94951.3450\n",
      "Epoch 7/100\n",
      "30617/30617 [==============================] - 1s 37us/step - loss: 81898.1892 - mean_squared_error: 81898.1892 - val_loss: 62676.3739 - val_mean_squared_error: 62676.3739\n",
      "Epoch 8/100\n",
      "30617/30617 [==============================] - 1s 41us/step - loss: 59337.9987 - mean_squared_error: 59337.9987 - val_loss: 48698.6363 - val_mean_squared_error: 48698.6363\n",
      "Epoch 9/100\n",
      "30617/30617 [==============================] - 1s 34us/step - loss: 40350.2101 - mean_squared_error: 40350.2101 - val_loss: 27525.6154 - val_mean_squared_error: 27525.6154\n",
      "Epoch 10/100\n",
      "30617/30617 [==============================] - 1s 32us/step - loss: 25483.1385 - mean_squared_error: 25483.1385 - val_loss: 18286.7272 - val_mean_squared_error: 18286.7272\n",
      "Epoch 11/100\n",
      "30617/30617 [==============================] - 2s 50us/step - loss: 14754.3814 - mean_squared_error: 14754.3814 - val_loss: 9816.0821 - val_mean_squared_error: 9816.0821\n",
      "Epoch 12/100\n",
      "30617/30617 [==============================] - 1s 41us/step - loss: 7715.1438 - mean_squared_error: 7715.1438 - val_loss: 4266.5326 - val_mean_squared_error: 4266.5326\n",
      "Epoch 13/100\n",
      "30617/30617 [==============================] - 1s 37us/step - loss: 3584.8980 - mean_squared_error: 3584.8980 - val_loss: 2809.9564 - val_mean_squared_error: 2809.9564\n",
      "Epoch 14/100\n",
      "30617/30617 [==============================] - 1s 33us/step - loss: 1459.2514 - mean_squared_error: 1459.2514 - val_loss: 1124.1293 - val_mean_squared_error: 1124.1293\n",
      "Epoch 15/100\n",
      "30617/30617 [==============================] - 1s 37us/step - loss: 517.1768 - mean_squared_error: 517.1768 - val_loss: 330.6490 - val_mean_squared_error: 330.6490\n",
      "Epoch 16/100\n",
      "30617/30617 [==============================] - 1s 33us/step - loss: 164.4672 - mean_squared_error: 164.4672 - val_loss: 260.7122 - val_mean_squared_error: 260.7122\n",
      "Epoch 17/100\n",
      "30617/30617 [==============================] - 1s 40us/step - loss: 53.9414 - mean_squared_error: 53.9414 - val_loss: 113.2809 - val_mean_squared_error: 113.2809\n",
      "Epoch 18/100\n",
      "30617/30617 [==============================] - 1s 41us/step - loss: 25.8532 - mean_squared_error: 25.8532 - val_loss: 43.6171 - val_mean_squared_error: 43.6171\n",
      "Epoch 19/100\n",
      "30617/30617 [==============================] - 2s 75us/step - loss: 20.1115 - mean_squared_error: 20.1115 - val_loss: 22.6990 - val_mean_squared_error: 22.6990\n",
      "Epoch 20/100\n",
      "30617/30617 [==============================] - 2s 52us/step - loss: 19.2425 - mean_squared_error: 19.2425 - val_loss: 103.0846 - val_mean_squared_error: 103.0846\n",
      "Epoch 21/100\n",
      "30617/30617 [==============================] - 1s 32us/step - loss: 18.9139 - mean_squared_error: 18.9139 - val_loss: 75.2311 - val_mean_squared_error: 75.2311\n",
      "Epoch 22/100\n",
      "30617/30617 [==============================] - 1s 27us/step - loss: 18.5139 - mean_squared_error: 18.5139 - val_loss: 44.6161 - val_mean_squared_error: 44.6161\n",
      "Epoch 23/100\n",
      "30617/30617 [==============================] - 1s 27us/step - loss: 18.7490 - mean_squared_error: 18.7490 - val_loss: 117.9786 - val_mean_squared_error: 117.9786\n",
      "Epoch 24/100\n",
      "30617/30617 [==============================] - 1s 44us/step - loss: 18.8189 - mean_squared_error: 18.8189 - val_loss: 50.5375 - val_mean_squared_error: 50.5375\n",
      "Epoch 25/100\n",
      "30617/30617 [==============================] - 1s 43us/step - loss: 18.8664 - mean_squared_error: 18.8664 - val_loss: 117.9272 - val_mean_squared_error: 117.9272\n",
      "Epoch 26/100\n",
      "30617/30617 [==============================] - 1s 43us/step - loss: 18.8651 - mean_squared_error: 18.8651 - val_loss: 45.8433 - val_mean_squared_error: 45.8433\n",
      "Epoch 27/100\n",
      "30617/30617 [==============================] - 1s 47us/step - loss: 18.5997 - mean_squared_error: 18.5997 - val_loss: 35.8329 - val_mean_squared_error: 35.8329\n",
      "Epoch 28/100\n",
      "30617/30617 [==============================] - 1s 36us/step - loss: 19.0045 - mean_squared_error: 19.0045 - val_loss: 64.7279 - val_mean_squared_error: 64.7279\n",
      "Epoch 29/100\n",
      "30617/30617 [==============================] - 1s 36us/step - loss: 18.7688 - mean_squared_error: 18.7688 - val_loss: 103.6131 - val_mean_squared_error: 103.6131\n",
      "Epoch 30/100\n",
      "30617/30617 [==============================] - 1s 29us/step - loss: 18.5046 - mean_squared_error: 18.5046 - val_loss: 119.0088 - val_mean_squared_error: 119.0088\n",
      "Epoch 31/100\n",
      "30617/30617 [==============================] - 1s 27us/step - loss: 18.7828 - mean_squared_error: 18.7828 - val_loss: 61.3366 - val_mean_squared_error: 61.3366\n",
      "Epoch 32/100\n",
      "30617/30617 [==============================] - 1s 42us/step - loss: 18.7538 - mean_squared_error: 18.7538 - val_loss: 64.2940 - val_mean_squared_error: 64.2940\n",
      "Epoch 33/100\n",
      "30617/30617 [==============================] - 1s 40us/step - loss: 18.9871 - mean_squared_error: 18.9871 - val_loss: 93.7950 - val_mean_squared_error: 93.7950\n",
      "Epoch 34/100\n",
      "30617/30617 [==============================] - 1s 28us/step - loss: 17.9695 - mean_squared_error: 17.9695 - val_loss: 51.2821 - val_mean_squared_error: 51.2821\n",
      "Epoch 35/100\n",
      "30617/30617 [==============================] - 1s 28us/step - loss: 18.2813 - mean_squared_error: 18.2813 - val_loss: 66.2880 - val_mean_squared_error: 66.2880\n",
      "Epoch 36/100\n",
      "30617/30617 [==============================] - 1s 27us/step - loss: 18.6699 - mean_squared_error: 18.6699 - val_loss: 32.0145 - val_mean_squared_error: 32.0145\n",
      "Epoch 37/100\n",
      "30617/30617 [==============================] - 1s 27us/step - loss: 18.2899 - mean_squared_error: 18.2899 - val_loss: 30.3640 - val_mean_squared_error: 30.3640\n",
      "Epoch 38/100\n",
      "30617/30617 [==============================] - 1s 29us/step - loss: 18.3477 - mean_squared_error: 18.3477 - val_loss: 100.5535 - val_mean_squared_error: 100.5535\n",
      "Epoch 39/100\n",
      "30617/30617 [==============================] - 1s 27us/step - loss: 18.5109 - mean_squared_error: 18.5109 - val_loss: 50.8772 - val_mean_squared_error: 50.8772\n",
      "Epoch 40/100\n",
      "30617/30617 [==============================] - 1s 33us/step - loss: 18.7825 - mean_squared_error: 18.7825 - val_loss: 60.5051 - val_mean_squared_error: 60.5051\n",
      "Epoch 41/100\n",
      "30617/30617 [==============================] - 1s 39us/step - loss: 18.0995 - mean_squared_error: 18.0995 - val_loss: 44.5984 - val_mean_squared_error: 44.5984\n",
      "Epoch 42/100\n",
      "30617/30617 [==============================] - 1s 42us/step - loss: 18.4099 - mean_squared_error: 18.4099 - val_loss: 34.6111 - val_mean_squared_error: 34.6111\n",
      "Epoch 43/100\n",
      "30617/30617 [==============================] - 3s 96us/step - loss: 17.9642 - mean_squared_error: 17.9642 - val_loss: 23.2092 - val_mean_squared_error: 23.2092\n",
      "Epoch 44/100\n",
      "30617/30617 [==============================] - 2s 50us/step - loss: 18.3819 - mean_squared_error: 18.3819 - val_loss: 29.0486 - val_mean_squared_error: 29.0486\n",
      "Epoch 45/100\n",
      "30617/30617 [==============================] - 2s 54us/step - loss: 18.3613 - mean_squared_error: 18.3613 - val_loss: 23.7648 - val_mean_squared_error: 23.7648\n",
      "Epoch 46/100\n",
      "30617/30617 [==============================] - 1s 45us/step - loss: 18.5633 - mean_squared_error: 18.5633 - val_loss: 51.5345 - val_mean_squared_error: 51.5345\n",
      "Epoch 47/100\n",
      "30617/30617 [==============================] - 1s 45us/step - loss: 18.0966 - mean_squared_error: 18.0966 - val_loss: 147.1928 - val_mean_squared_error: 147.1928\n",
      "Epoch 48/100\n"
     ]
    },
    {
     "name": "stdout",
     "output_type": "stream",
     "text": [
      "30617/30617 [==============================] - 1s 31us/step - loss: 18.2411 - mean_squared_error: 18.2411 - val_loss: 25.6812 - val_mean_squared_error: 25.6812\n",
      "Epoch 49/100\n",
      "30617/30617 [==============================] - 1s 31us/step - loss: 18.0681 - mean_squared_error: 18.0681 - val_loss: 19.1994 - val_mean_squared_error: 19.1994\n",
      "Epoch 50/100\n",
      "30617/30617 [==============================] - 1s 29us/step - loss: 18.2698 - mean_squared_error: 18.2698 - val_loss: 29.3871 - val_mean_squared_error: 29.3871\n",
      "Epoch 51/100\n",
      "30617/30617 [==============================] - 1s 37us/step - loss: 18.1727 - mean_squared_error: 18.1727 - val_loss: 78.0333 - val_mean_squared_error: 78.0333\n",
      "Epoch 52/100\n",
      "30617/30617 [==============================] - 1s 29us/step - loss: 18.4990 - mean_squared_error: 18.4990 - val_loss: 64.4032 - val_mean_squared_error: 64.4032\n",
      "Epoch 53/100\n",
      "30617/30617 [==============================] - 1s 29us/step - loss: 18.5799 - mean_squared_error: 18.5799 - val_loss: 54.4237 - val_mean_squared_error: 54.4237\n",
      "Epoch 54/100\n",
      "30617/30617 [==============================] - 1s 35us/step - loss: 17.9176 - mean_squared_error: 17.9176 - val_loss: 114.5379 - val_mean_squared_error: 114.5379\n",
      "Epoch 55/100\n",
      "30617/30617 [==============================] - 1s 31us/step - loss: 18.1653 - mean_squared_error: 18.1653 - val_loss: 33.2702 - val_mean_squared_error: 33.2702\n",
      "Epoch 56/100\n",
      "30617/30617 [==============================] - 1s 29us/step - loss: 18.2257 - mean_squared_error: 18.2257 - val_loss: 20.4569 - val_mean_squared_error: 20.4569\n",
      "Epoch 57/100\n",
      "30617/30617 [==============================] - 1s 32us/step - loss: 17.9456 - mean_squared_error: 17.9456 - val_loss: 21.0967 - val_mean_squared_error: 21.0967\n",
      "Epoch 58/100\n",
      "30617/30617 [==============================] - 1s 30us/step - loss: 18.4722 - mean_squared_error: 18.4722 - val_loss: 70.0672 - val_mean_squared_error: 70.0672\n",
      "Epoch 59/100\n",
      "30617/30617 [==============================] - 1s 33us/step - loss: 17.8621 - mean_squared_error: 17.8621 - val_loss: 33.5303 - val_mean_squared_error: 33.5303\n",
      "Epoch 60/100\n",
      "30617/30617 [==============================] - 2s 55us/step - loss: 18.0268 - mean_squared_error: 18.0268 - val_loss: 61.4917 - val_mean_squared_error: 61.4917\n",
      "Epoch 61/100\n",
      "30617/30617 [==============================] - 2s 60us/step - loss: 18.1396 - mean_squared_error: 18.1396 - val_loss: 43.0354 - val_mean_squared_error: 43.0354\n",
      "Epoch 62/100\n",
      "30617/30617 [==============================] - 2s 53us/step - loss: 17.8367 - mean_squared_error: 17.8367 - val_loss: 30.5443 - val_mean_squared_error: 30.5443\n",
      "Epoch 63/100\n",
      "30617/30617 [==============================] - 1s 34us/step - loss: 17.8055 - mean_squared_error: 17.8055 - val_loss: 104.7313 - val_mean_squared_error: 104.7313\n",
      "Epoch 64/100\n",
      "30617/30617 [==============================] - 1s 35us/step - loss: 17.8456 - mean_squared_error: 17.8456 - val_loss: 45.1012 - val_mean_squared_error: 45.1012\n",
      "Epoch 65/100\n",
      "30617/30617 [==============================] - 1s 36us/step - loss: 17.8684 - mean_squared_error: 17.8684 - val_loss: 50.3895 - val_mean_squared_error: 50.3895\n",
      "Epoch 66/100\n",
      "30617/30617 [==============================] - 1s 33us/step - loss: 17.9476 - mean_squared_error: 17.9476 - val_loss: 26.2181 - val_mean_squared_error: 26.2181\n",
      "Epoch 67/100\n",
      "30617/30617 [==============================] - 1s 29us/step - loss: 17.6059 - mean_squared_error: 17.6059 - val_loss: 26.1044 - val_mean_squared_error: 26.1044\n",
      "Epoch 68/100\n",
      "30617/30617 [==============================] - 1s 27us/step - loss: 18.1674 - mean_squared_error: 18.1674 - val_loss: 30.3867 - val_mean_squared_error: 30.3867\n",
      "Epoch 69/100\n",
      "30617/30617 [==============================] - 1s 29us/step - loss: 17.8935 - mean_squared_error: 17.8935 - val_loss: 81.5641 - val_mean_squared_error: 81.5641\n",
      "Epoch 70/100\n",
      "30617/30617 [==============================] - 1s 32us/step - loss: 17.5311 - mean_squared_error: 17.5311 - val_loss: 46.2197 - val_mean_squared_error: 46.2197\n",
      "Epoch 71/100\n",
      "30617/30617 [==============================] - 1s 31us/step - loss: 17.7118 - mean_squared_error: 17.7118 - val_loss: 29.0173 - val_mean_squared_error: 29.0173\n",
      "Epoch 72/100\n",
      "30617/30617 [==============================] - 1s 32us/step - loss: 18.3535 - mean_squared_error: 18.3535 - val_loss: 18.0316 - val_mean_squared_error: 18.0316\n",
      "Epoch 73/100\n",
      "30617/30617 [==============================] - 2s 50us/step - loss: 17.6732 - mean_squared_error: 17.6732 - val_loss: 28.5121 - val_mean_squared_error: 28.5121\n",
      "Epoch 74/100\n",
      "30617/30617 [==============================] - 1s 43us/step - loss: 18.5428 - mean_squared_error: 18.5428 - val_loss: 30.0470 - val_mean_squared_error: 30.0470\n",
      "Epoch 75/100\n",
      "30617/30617 [==============================] - 1s 42us/step - loss: 17.8219 - mean_squared_error: 17.8219 - val_loss: 26.8192 - val_mean_squared_error: 26.8192\n",
      "Epoch 76/100\n",
      "30617/30617 [==============================] - 1s 37us/step - loss: 17.8491 - mean_squared_error: 17.8491 - val_loss: 105.2324 - val_mean_squared_error: 105.2324\n",
      "Epoch 77/100\n",
      "30617/30617 [==============================] - 1s 41us/step - loss: 17.7620 - mean_squared_error: 17.7620 - val_loss: 50.2629 - val_mean_squared_error: 50.2629\n",
      "Epoch 78/100\n",
      "30617/30617 [==============================] - 1s 43us/step - loss: 17.8044 - mean_squared_error: 17.8044 - val_loss: 30.9467 - val_mean_squared_error: 30.9467\n",
      "Epoch 79/100\n",
      "30617/30617 [==============================] - 1s 31us/step - loss: 17.5405 - mean_squared_error: 17.5405 - val_loss: 82.6130 - val_mean_squared_error: 82.6130\n",
      "Epoch 80/100\n",
      "30617/30617 [==============================] - 1s 44us/step - loss: 18.2903 - mean_squared_error: 18.2903 - val_loss: 23.4799 - val_mean_squared_error: 23.4799\n",
      "Epoch 81/100\n",
      "30617/30617 [==============================] - 2s 54us/step - loss: 17.9549 - mean_squared_error: 17.9549 - val_loss: 41.8900 - val_mean_squared_error: 41.8900\n",
      "Epoch 82/100\n",
      "30617/30617 [==============================] - 1s 37us/step - loss: 17.8708 - mean_squared_error: 17.8708 - val_loss: 63.8757 - val_mean_squared_error: 63.8757\n",
      "Epoch 83/100\n",
      "30617/30617 [==============================] - 1s 28us/step - loss: 18.1870 - mean_squared_error: 18.1870 - val_loss: 30.3515 - val_mean_squared_error: 30.3515\n",
      "Epoch 84/100\n",
      "30617/30617 [==============================] - 1s 40us/step - loss: 18.3068 - mean_squared_error: 18.3068 - val_loss: 66.8383 - val_mean_squared_error: 66.8383\n",
      "Epoch 85/100\n",
      "30617/30617 [==============================] - 1s 30us/step - loss: 18.1575 - mean_squared_error: 18.1575 - val_loss: 28.9971 - val_mean_squared_error: 28.9971\n",
      "Epoch 86/100\n",
      "30617/30617 [==============================] - 1s 27us/step - loss: 17.9640 - mean_squared_error: 17.9640 - val_loss: 77.5844 - val_mean_squared_error: 77.5844\n",
      "Epoch 87/100\n",
      "30617/30617 [==============================] - 1s 27us/step - loss: 17.9014 - mean_squared_error: 17.9014 - val_loss: 37.4465 - val_mean_squared_error: 37.4465\n",
      "Epoch 88/100\n",
      "30617/30617 [==============================] - 1s 28us/step - loss: 17.6627 - mean_squared_error: 17.6627 - val_loss: 50.1233 - val_mean_squared_error: 50.1233\n",
      "Epoch 89/100\n",
      "30617/30617 [==============================] - 1s 42us/step - loss: 17.4744 - mean_squared_error: 17.4744 - val_loss: 22.9257 - val_mean_squared_error: 22.9257\n",
      "Epoch 90/100\n",
      "30617/30617 [==============================] - 1s 32us/step - loss: 18.0662 - mean_squared_error: 18.0662 - val_loss: 20.9449 - val_mean_squared_error: 20.9449\n",
      "Epoch 91/100\n",
      "30617/30617 [==============================] - 2s 75us/step - loss: 17.4774 - mean_squared_error: 17.4774 - val_loss: 40.2028 - val_mean_squared_error: 40.2028\n",
      "Epoch 92/100\n",
      "30617/30617 [==============================] - 3s 83us/step - loss: 17.6907 - mean_squared_error: 17.6907 - val_loss: 55.9636 - val_mean_squared_error: 55.9636\n",
      "Epoch 93/100\n",
      "30617/30617 [==============================] - 2s 57us/step - loss: 17.4209 - mean_squared_error: 17.4209 - val_loss: 50.1281 - val_mean_squared_error: 50.1281\n",
      "Epoch 94/100\n",
      "30617/30617 [==============================] - 1s 34us/step - loss: 17.9635 - mean_squared_error: 17.9635 - val_loss: 104.9788 - val_mean_squared_error: 104.9788\n",
      "Epoch 95/100\n"
     ]
    },
    {
     "name": "stdout",
     "output_type": "stream",
     "text": [
      "30617/30617 [==============================] - 1s 33us/step - loss: 17.6412 - mean_squared_error: 17.6412 - val_loss: 48.5474 - val_mean_squared_error: 48.5474\n",
      "Epoch 96/100\n",
      "30617/30617 [==============================] - 1s 44us/step - loss: 17.7019 - mean_squared_error: 17.7019 - val_loss: 24.5659 - val_mean_squared_error: 24.5659\n",
      "Epoch 97/100\n",
      "30617/30617 [==============================] - 2s 73us/step - loss: 17.2940 - mean_squared_error: 17.2940 - val_loss: 54.7583 - val_mean_squared_error: 54.7583\n",
      "Epoch 98/100\n",
      "30617/30617 [==============================] - 1s 43us/step - loss: 17.8515 - mean_squared_error: 17.8515 - val_loss: 28.3436 - val_mean_squared_error: 28.3436\n",
      "Epoch 99/100\n",
      "30617/30617 [==============================] - 1s 39us/step - loss: 17.7396 - mean_squared_error: 17.7396 - val_loss: 18.2407 - val_mean_squared_error: 18.2407\n",
      "Epoch 100/100\n",
      "30617/30617 [==============================] - 2s 58us/step - loss: 17.7561 - mean_squared_error: 17.7561 - val_loss: 64.6190 - val_mean_squared_error: 64.6190\n",
      "9568/9568 [==============================] - 0s 18us/step\n",
      "Error: 64.95986464509996\n"
     ]
    }
   ],
   "source": [
    "monitor_val_acc_1 = EarlyStopping(monitor = \"mse\", patience = 10)\n",
    "modelCheckpoint_1 = ModelCheckpoint(\"planta_electrica.hdf5\", save_best_only = True)\n",
    "\n",
    "history_1 = model_1.fit(x_train, y_train, epochs = 100, batch_size = 128, validation_split = 0.2, callbacks = [monitor_val_acc_1, modelCheckpoint_1])\n",
    "error_1 = model_1.evaluate(x_test, y_test)[1]\n",
    "print('Error:', error_1)"
   ]
  },
  {
   "cell_type": "code",
   "execution_count": 13,
   "metadata": {},
   "outputs": [
    {
     "data": {
      "text/plain": [
       "[<matplotlib.lines.Line2D at 0x14f393deda0>]"
      ]
     },
     "execution_count": 13,
     "metadata": {},
     "output_type": "execute_result"
    },
    {
     "data": {
      "image/png": "[encoded data removed]",
      "text/plain": [
       "<Figure size 432x288 with 1 Axes>"
      ]
     },
     "metadata": {
      "needs_background": "light"
     },
     "output_type": "display_data"
    }
   ],
   "source": [
    "plt.figure()\n",
    "plt.plot(history_1.history['loss'])\n",
    "plt.plot(history_1.history['val_loss'])"
   ]
  },
  {
   "cell_type": "code",
   "execution_count": 14,
   "metadata": {},
   "outputs": [],
   "source": [
    "predicciones = model_1.predict(x_test)"
   ]
  },
  {
   "cell_type": "code",
   "execution_count": 15,
   "metadata": {},
   "outputs": [
    {
     "name": "stdout",
     "output_type": "stream",
     "text": [
      "[[435.38647]\n",
      " [441.18555]\n",
      " [462.00214]\n",
      " ...\n",
      " [456.83395]\n",
      " [474.86313]\n",
      " [453.99847]]\n"
     ]
    }
   ],
   "source": [
    "print(predicciones)"
   ]
  },
  {
   "cell_type": "code",
   "execution_count": 16,
   "metadata": {},
   "outputs": [
    {
     "name": "stdout",
     "output_type": "stream",
     "text": [
      "[436.29 438.08 476.12 ... 461.7  483.03 465.52]\n"
     ]
    }
   ],
   "source": [
    "print(y_test.values)"
   ]
  },
  {
   "cell_type": "code",
   "execution_count": null,
   "metadata": {},
   "outputs": [],
   "source": []
  },
  {
   "cell_type": "markdown",
   "metadata": {},
   "source": [
    "***\n",
    "### Modelo 2 utilizando RMSprop"
   ]
  },
  {
   "cell_type": "code",
   "execution_count": 17,
   "metadata": {},
   "outputs": [
    {
     "name": "stdout",
     "output_type": "stream",
     "text": [
      "_________________________________________________________________\n",
      "Layer (type)                 Output Shape              Param #   \n",
      "=================================================================\n",
      "dense_5 (Dense)              (None, 128)               640       \n",
      "_________________________________________________________________\n",
      "batch_normalization_4 (Batch (None, 128)               512       \n",
      "_________________________________________________________________\n",
      "dense_6 (Dense)              (None, 128)               16512     \n",
      "_________________________________________________________________\n",
      "batch_normalization_5 (Batch (None, 128)               512       \n",
      "_________________________________________________________________\n",
      "dense_7 (Dense)              (None, 128)               16512     \n",
      "_________________________________________________________________\n",
      "batch_normalization_6 (Batch (None, 128)               512       \n",
      "_________________________________________________________________\n",
      "dense_8 (Dense)              (None, 1)                 129       \n",
      "=================================================================\n",
      "Total params: 35,329\n",
      "Trainable params: 34,561\n",
      "Non-trainable params: 768\n",
      "_________________________________________________________________\n"
     ]
    }
   ],
   "source": [
    "model_2 = Sequential()\n",
    "model_2.add(Dense(128, input_shape = (4, ), activation = \"relu\"))\n",
    "model_2.add(BatchNormalization())\n",
    "model_2.add(Dense(128, activation = \"relu\"))\n",
    "model_2.add(BatchNormalization())\n",
    "model_2.add(Dense(128, activation = \"relu\"))\n",
    "model_2.add(BatchNormalization())\n",
    "model_2.add(Dense(1, activation = \"linear\"))\n",
    "model_2.compile(loss = \"mean_squared_error\", optimizer = \"RMSprop\", metrics = [\"mse\"])\n",
    "model_2.summary()"
   ]
  },
  {
   "cell_type": "code",
   "execution_count": 18,
   "metadata": {},
   "outputs": [
    {
     "name": "stdout",
     "output_type": "stream",
     "text": [
      "Train on 30617 samples, validate on 7655 samples\n",
      "Epoch 1/100\n",
      "30617/30617 [==============================] - 9s 281us/step - loss: 164901.0965 - mean_squared_error: 164901.0965 - val_loss: 111876.3380 - val_mean_squared_error: 111876.3380\n"
     ]
    },
    {
     "name": "stderr",
     "output_type": "stream",
     "text": [
      "C:\\Users\\Jose\\Anaconda3\\lib\\site-packages\\keras\\callbacks.py:569: RuntimeWarning: Early stopping conditioned on metric `mse` which is not available. Available metrics are: val_loss,val_mean_squared_error,loss,mean_squared_error\n",
      "  (self.monitor, ','.join(list(logs.keys()))), RuntimeWarning\n"
     ]
    },
    {
     "name": "stdout",
     "output_type": "stream",
     "text": [
      "Epoch 2/100\n",
      "30617/30617 [==============================] - 5s 174us/step - loss: 33313.2399 - mean_squared_error: 33313.2399 - val_loss: 33.6029 - val_mean_squared_error: 33.6029\n",
      "Epoch 3/100\n",
      "30617/30617 [==============================] - 6s 184us/step - loss: 30.4860 - mean_squared_error: 30.4860 - val_loss: 130.0796 - val_mean_squared_error: 130.0796\n",
      "Epoch 4/100\n",
      "30617/30617 [==============================] - 7s 231us/step - loss: 29.3801 - mean_squared_error: 29.3801 - val_loss: 310.1940 - val_mean_squared_error: 310.1940\n",
      "Epoch 5/100\n",
      "30617/30617 [==============================] - 6s 186us/step - loss: 28.7996 - mean_squared_error: 28.7996 - val_loss: 301.3799 - val_mean_squared_error: 301.3799\n",
      "Epoch 6/100\n",
      "30617/30617 [==============================] - 7s 220us/step - loss: 28.7091 - mean_squared_error: 28.7091 - val_loss: 258.9290 - val_mean_squared_error: 258.9290\n",
      "Epoch 7/100\n",
      "30617/30617 [==============================] - 6s 210us/step - loss: 28.2341 - mean_squared_error: 28.2341 - val_loss: 146.2873 - val_mean_squared_error: 146.2873\n",
      "Epoch 8/100\n",
      "30617/30617 [==============================] - 17s 563us/step - loss: 28.6640 - mean_squared_error: 28.6640 - val_loss: 104.1850 - val_mean_squared_error: 104.1850\n",
      "Epoch 9/100\n",
      "30617/30617 [==============================] - 6s 189us/step - loss: 27.7450 - mean_squared_error: 27.7450 - val_loss: 102.8633 - val_mean_squared_error: 102.8633\n",
      "Epoch 10/100\n",
      "30617/30617 [==============================] - 11s 352us/step - loss: 28.3296 - mean_squared_error: 28.3296 - val_loss: 101.5658 - val_mean_squared_error: 101.5658\n",
      "Epoch 11/100\n",
      "30617/30617 [==============================] - 5s 171us/step - loss: 26.9773 - mean_squared_error: 26.9773 - val_loss: 97.2762 - val_mean_squared_error: 97.2762\n",
      "Epoch 12/100\n",
      "30617/30617 [==============================] - 7s 219us/step - loss: 27.6853 - mean_squared_error: 27.6853 - val_loss: 428.6913 - val_mean_squared_error: 428.6913\n",
      "Epoch 13/100\n",
      "30617/30617 [==============================] - 5s 177us/step - loss: 27.8925 - mean_squared_error: 27.8925 - val_loss: 160.7191 - val_mean_squared_error: 160.7191\n",
      "Epoch 14/100\n",
      "30617/30617 [==============================] - 5s 158us/step - loss: 27.5916 - mean_squared_error: 27.5916 - val_loss: 28.0582 - val_mean_squared_error: 28.0582\n",
      "Epoch 15/100\n",
      "30617/30617 [==============================] - 6s 200us/step - loss: 27.3680 - mean_squared_error: 27.3680 - val_loss: 31.3793 - val_mean_squared_error: 31.3793\n",
      "Epoch 16/100\n",
      "30617/30617 [==============================] - 7s 213us/step - loss: 25.9499 - mean_squared_error: 25.9499 - val_loss: 28.6424 - val_mean_squared_error: 28.6424\n",
      "Epoch 17/100\n",
      "30617/30617 [==============================] - 8s 270us/step - loss: 26.5352 - mean_squared_error: 26.5352 - val_loss: 138.2238 - val_mean_squared_error: 138.2238\n",
      "Epoch 18/100\n",
      "30617/30617 [==============================] - 5s 177us/step - loss: 26.7134 - mean_squared_error: 26.7134 - val_loss: 58.4599 - val_mean_squared_error: 58.4599\n",
      "Epoch 19/100\n",
      "30617/30617 [==============================] - 6s 203us/step - loss: 27.5761 - mean_squared_error: 27.5761 - val_loss: 22.3600 - val_mean_squared_error: 22.3600\n",
      "Epoch 20/100\n",
      "30617/30617 [==============================] - 5s 176us/step - loss: 26.4551 - mean_squared_error: 26.4551 - val_loss: 42.2657 - val_mean_squared_error: 42.2657\n",
      "Epoch 21/100\n",
      "30617/30617 [==============================] - 5s 176us/step - loss: 26.9973 - mean_squared_error: 26.9973 - val_loss: 27.3167 - val_mean_squared_error: 27.3167\n",
      "Epoch 22/100\n",
      "30617/30617 [==============================] - 6s 201us/step - loss: 26.7317 - mean_squared_error: 26.7317 - val_loss: 100.8649 - val_mean_squared_error: 100.8649\n",
      "Epoch 23/100\n",
      "30617/30617 [==============================] - 7s 231us/step - loss: 26.8096 - mean_squared_error: 26.8096 - val_loss: 29.4341 - val_mean_squared_error: 29.4341\n",
      "Epoch 24/100\n",
      "30617/30617 [==============================] - 8s 255us/step - loss: 27.5098 - mean_squared_error: 27.5098 - val_loss: 42.0004 - val_mean_squared_error: 42.0004\n",
      "Epoch 25/100\n",
      "30617/30617 [==============================] - 7s 234us/step - loss: 26.9670 - mean_squared_error: 26.9670 - val_loss: 42.8815 - val_mean_squared_error: 42.8815\n",
      "Epoch 26/100\n",
      "30617/30617 [==============================] - 5s 176us/step - loss: 26.9517 - mean_squared_error: 26.9517 - val_loss: 50.5776 - val_mean_squared_error: 50.5776\n",
      "Epoch 27/100\n",
      "30617/30617 [==============================] - 6s 185us/step - loss: 26.3456 - mean_squared_error: 26.3456 - val_loss: 50.6817 - val_mean_squared_error: 50.6817\n",
      "Epoch 28/100\n",
      "30617/30617 [==============================] - 7s 244us/step - loss: 27.0018 - mean_squared_error: 27.0018 - val_loss: 37.1455 - val_mean_squared_error: 37.1455\n",
      "Epoch 29/100\n",
      "30617/30617 [==============================] - 7s 223us/step - loss: 26.1094 - mean_squared_error: 26.1094 - val_loss: 57.2189 - val_mean_squared_error: 57.2189\n",
      "Epoch 30/100\n",
      "30617/30617 [==============================] - 5s 171us/step - loss: 25.9360 - mean_squared_error: 25.9360 - val_loss: 23.9500 - val_mean_squared_error: 23.9500\n",
      "Epoch 31/100\n",
      "30617/30617 [==============================] - 5s 174us/step - loss: 26.2328 - mean_squared_error: 26.2328 - val_loss: 26.1223 - val_mean_squared_error: 26.1223\n",
      "Epoch 32/100\n",
      "30617/30617 [==============================] - 5s 169us/step - loss: 26.5005 - mean_squared_error: 26.5005 - val_loss: 26.1050 - val_mean_squared_error: 26.1050\n",
      "Epoch 33/100\n",
      "30617/30617 [==============================] - 5s 161us/step - loss: 26.0712 - mean_squared_error: 26.0712 - val_loss: 39.0684 - val_mean_squared_error: 39.0684\n",
      "Epoch 34/100\n",
      "30617/30617 [==============================] - 5s 170us/step - loss: 25.8464 - mean_squared_error: 25.8464 - val_loss: 25.5145 - val_mean_squared_error: 25.5145\n",
      "Epoch 35/100\n",
      "30617/30617 [==============================] - 6s 189us/step - loss: 26.8762 - mean_squared_error: 26.8762 - val_loss: 185.0229 - val_mean_squared_error: 185.0229\n",
      "Epoch 36/100\n",
      "30617/30617 [==============================] - 5s 158us/step - loss: 26.5498 - mean_squared_error: 26.5498 - val_loss: 71.4406 - val_mean_squared_error: 71.4406\n",
      "Epoch 37/100\n",
      "30617/30617 [==============================] - 5s 168us/step - loss: 26.0079 - mean_squared_error: 26.0079 - val_loss: 41.5440 - val_mean_squared_error: 41.5440\n",
      "Epoch 38/100\n",
      "30617/30617 [==============================] - 6s 212us/step - loss: 26.7037 - mean_squared_error: 26.7037 - val_loss: 34.3552 - val_mean_squared_error: 34.3552\n",
      "Epoch 39/100\n",
      "30617/30617 [==============================] - 7s 226us/step - loss: 26.2975 - mean_squared_error: 26.2975 - val_loss: 38.3950 - val_mean_squared_error: 38.3950\n",
      "Epoch 40/100\n",
      "30617/30617 [==============================] - 8s 262us/step - loss: 26.1228 - mean_squared_error: 26.1228 - val_loss: 45.5565 - val_mean_squared_error: 45.5565\n",
      "Epoch 41/100\n",
      "30617/30617 [==============================] - 10s 311us/step - loss: 25.0935 - mean_squared_error: 25.0935 - val_loss: 227.8789 - val_mean_squared_error: 227.8789\n",
      "Epoch 42/100\n",
      "30617/30617 [==============================] - 6s 191us/step - loss: 25.9635 - mean_squared_error: 25.9635 - val_loss: 42.7464 - val_mean_squared_error: 42.7464\n",
      "Epoch 43/100\n",
      "30617/30617 [==============================] - 7s 228us/step - loss: 26.0905 - mean_squared_error: 26.0905 - val_loss: 54.2680 - val_mean_squared_error: 54.2680\n",
      "Epoch 44/100\n",
      "30617/30617 [==============================] - 5s 150us/step - loss: 26.6212 - mean_squared_error: 26.6212 - val_loss: 39.1867 - val_mean_squared_error: 39.1867\n",
      "Epoch 45/100\n",
      "30617/30617 [==============================] - 5s 170us/step - loss: 25.8269 - mean_squared_error: 25.8269 - val_loss: 110.7342 - val_mean_squared_error: 110.7342\n",
      "Epoch 46/100\n",
      "30617/30617 [==============================] - 6s 182us/step - loss: 25.6327 - mean_squared_error: 25.6327 - val_loss: 34.6256 - val_mean_squared_error: 34.6256\n",
      "Epoch 47/100\n",
      "30617/30617 [==============================] - 6s 199us/step - loss: 26.2032 - mean_squared_error: 26.2032 - val_loss: 32.9226 - val_mean_squared_error: 32.9226\n",
      "Epoch 48/100\n",
      "30617/30617 [==============================] - 6s 205us/step - loss: 25.4979 - mean_squared_error: 25.4979 - val_loss: 70.2870 - val_mean_squared_error: 70.2870\n"
     ]
    },
    {
     "name": "stdout",
     "output_type": "stream",
     "text": [
      "Epoch 49/100\n",
      "30617/30617 [==============================] - 8s 262us/step - loss: 25.8206 - mean_squared_error: 25.8206 - val_loss: 29.6622 - val_mean_squared_error: 29.6622\n",
      "Epoch 50/100\n",
      "30617/30617 [==============================] - 5s 167us/step - loss: 26.5240 - mean_squared_error: 26.5240 - val_loss: 58.6467 - val_mean_squared_error: 58.6467\n",
      "Epoch 51/100\n",
      "30617/30617 [==============================] - 6s 199us/step - loss: 25.8931 - mean_squared_error: 25.8931 - val_loss: 33.2305 - val_mean_squared_error: 33.2305\n",
      "Epoch 52/100\n",
      "30617/30617 [==============================] - 7s 245us/step - loss: 25.7897 - mean_squared_error: 25.7897 - val_loss: 44.0471 - val_mean_squared_error: 44.0471\n",
      "Epoch 53/100\n",
      "30617/30617 [==============================] - 6s 209us/step - loss: 25.7568 - mean_squared_error: 25.7568 - val_loss: 30.7539 - val_mean_squared_error: 30.7539\n",
      "Epoch 54/100\n",
      "30617/30617 [==============================] - 4s 125us/step - loss: 25.8156 - mean_squared_error: 25.8156 - val_loss: 25.2254 - val_mean_squared_error: 25.2254\n",
      "Epoch 55/100\n",
      "30617/30617 [==============================] - 4s 126us/step - loss: 25.5707 - mean_squared_error: 25.5707 - val_loss: 55.1892 - val_mean_squared_error: 55.1892\n",
      "Epoch 56/100\n",
      "30617/30617 [==============================] - 3s 114us/step - loss: 25.8366 - mean_squared_error: 25.8366 - val_loss: 30.1570 - val_mean_squared_error: 30.1570\n",
      "Epoch 57/100\n",
      "30617/30617 [==============================] - 7s 239us/step - loss: 26.5058 - mean_squared_error: 26.5058 - val_loss: 45.6817 - val_mean_squared_error: 45.6817\n",
      "Epoch 58/100\n",
      "30617/30617 [==============================] - 10s 334us/step - loss: 25.8909 - mean_squared_error: 25.8909 - val_loss: 67.5770 - val_mean_squared_error: 67.5770\n",
      "Epoch 59/100\n",
      "30617/30617 [==============================] - 7s 222us/step - loss: 26.4883 - mean_squared_error: 26.4883 - val_loss: 65.8191 - val_mean_squared_error: 65.8191\n",
      "Epoch 60/100\n",
      "30617/30617 [==============================] - 7s 244us/step - loss: 25.7143 - mean_squared_error: 25.7143 - val_loss: 67.0879 - val_mean_squared_error: 67.0879\n",
      "Epoch 61/100\n",
      "30617/30617 [==============================] - 6s 197us/step - loss: 26.1238 - mean_squared_error: 26.1238 - val_loss: 22.7941 - val_mean_squared_error: 22.7941\n",
      "Epoch 62/100\n",
      "30617/30617 [==============================] - 6s 190us/step - loss: 25.7279 - mean_squared_error: 25.7279 - val_loss: 37.6041 - val_mean_squared_error: 37.6041\n",
      "Epoch 63/100\n",
      "30617/30617 [==============================] - 5s 176us/step - loss: 26.6426 - mean_squared_error: 26.6426 - val_loss: 484.8125 - val_mean_squared_error: 484.8125\n",
      "Epoch 64/100\n",
      "30617/30617 [==============================] - 5s 160us/step - loss: 26.6233 - mean_squared_error: 26.6233 - val_loss: 37.8941 - val_mean_squared_error: 37.8941\n",
      "Epoch 65/100\n",
      "30617/30617 [==============================] - 6s 191us/step - loss: 25.8182 - mean_squared_error: 25.8182 - val_loss: 39.9519 - val_mean_squared_error: 39.9519\n",
      "Epoch 66/100\n",
      "30617/30617 [==============================] - 7s 238us/step - loss: 25.9730 - mean_squared_error: 25.9730 - val_loss: 73.3020 - val_mean_squared_error: 73.3020\n",
      "Epoch 67/100\n",
      "30617/30617 [==============================] - 7s 222us/step - loss: 26.4987 - mean_squared_error: 26.4987 - val_loss: 20.7468 - val_mean_squared_error: 20.7468\n",
      "Epoch 68/100\n",
      "30617/30617 [==============================] - 6s 199us/step - loss: 25.4558 - mean_squared_error: 25.4558 - val_loss: 62.2220 - val_mean_squared_error: 62.2220\n",
      "Epoch 69/100\n",
      "30617/30617 [==============================] - 6s 183us/step - loss: 25.7708 - mean_squared_error: 25.7708 - val_loss: 24.0458 - val_mean_squared_error: 24.0458\n",
      "Epoch 70/100\n",
      "30617/30617 [==============================] - 5s 153us/step - loss: 26.8668 - mean_squared_error: 26.8668 - val_loss: 39.2427 - val_mean_squared_error: 39.2427\n",
      "Epoch 71/100\n",
      "30617/30617 [==============================] - 6s 209us/step - loss: 25.9199 - mean_squared_error: 25.9199 - val_loss: 25.2151 - val_mean_squared_error: 25.2151\n",
      "Epoch 72/100\n",
      "30617/30617 [==============================] - 5s 172us/step - loss: 25.5500 - mean_squared_error: 25.5500 - val_loss: 17.0455 - val_mean_squared_error: 17.0455\n",
      "Epoch 73/100\n",
      "30617/30617 [==============================] - 6s 182us/step - loss: 25.2911 - mean_squared_error: 25.2911 - val_loss: 53.5926 - val_mean_squared_error: 53.5926\n",
      "Epoch 74/100\n",
      "30617/30617 [==============================] - 5s 155us/step - loss: 26.2681 - mean_squared_error: 26.2681 - val_loss: 48.5180 - val_mean_squared_error: 48.5180\n",
      "Epoch 75/100\n",
      "30617/30617 [==============================] - 6s 200us/step - loss: 25.4224 - mean_squared_error: 25.4224 - val_loss: 113.7569 - val_mean_squared_error: 113.7569\n",
      "Epoch 76/100\n",
      "30617/30617 [==============================] - 6s 211us/step - loss: 25.7266 - mean_squared_error: 25.7266 - val_loss: 55.1981 - val_mean_squared_error: 55.1981\n",
      "Epoch 77/100\n",
      "30617/30617 [==============================] - 5s 177us/step - loss: 25.5623 - mean_squared_error: 25.5623 - val_loss: 58.6891 - val_mean_squared_error: 58.6891\n",
      "Epoch 78/100\n",
      "30617/30617 [==============================] - 7s 239us/step - loss: 25.9810 - mean_squared_error: 25.9810 - val_loss: 20.5532 - val_mean_squared_error: 20.5532\n",
      "Epoch 79/100\n",
      "30617/30617 [==============================] - 7s 243us/step - loss: 26.0727 - mean_squared_error: 26.0727 - val_loss: 45.1873 - val_mean_squared_error: 45.1873\n",
      "Epoch 80/100\n",
      "30617/30617 [==============================] - 8s 247us/step - loss: 25.8947 - mean_squared_error: 25.8947 - val_loss: 44.2363 - val_mean_squared_error: 44.2363\n",
      "Epoch 81/100\n",
      "30617/30617 [==============================] - 6s 210us/step - loss: 26.0173 - mean_squared_error: 26.0173 - val_loss: 43.1526 - val_mean_squared_error: 43.1526\n",
      "Epoch 82/100\n",
      "30617/30617 [==============================] - 6s 198us/step - loss: 26.3071 - mean_squared_error: 26.3071 - val_loss: 36.2515 - val_mean_squared_error: 36.2515\n",
      "Epoch 83/100\n",
      "30617/30617 [==============================] - 7s 227us/step - loss: 25.6301 - mean_squared_error: 25.6301 - val_loss: 38.8783 - val_mean_squared_error: 38.8783\n",
      "Epoch 84/100\n",
      "30617/30617 [==============================] - 6s 212us/step - loss: 25.9697 - mean_squared_error: 25.9697 - val_loss: 29.5570 - val_mean_squared_error: 29.5570\n",
      "Epoch 85/100\n",
      "30617/30617 [==============================] - 6s 188us/step - loss: 25.3604 - mean_squared_error: 25.3604 - val_loss: 46.5605 - val_mean_squared_error: 46.5605\n",
      "Epoch 86/100\n",
      "30617/30617 [==============================] - 5s 162us/step - loss: 25.5500 - mean_squared_error: 25.5500 - val_loss: 25.2198 - val_mean_squared_error: 25.2198\n",
      "Epoch 87/100\n",
      "30617/30617 [==============================] - 5s 173us/step - loss: 25.9423 - mean_squared_error: 25.9423 - val_loss: 36.2291 - val_mean_squared_error: 36.2291\n",
      "Epoch 88/100\n",
      "30617/30617 [==============================] - 5s 162us/step - loss: 26.2006 - mean_squared_error: 26.2006 - val_loss: 21.0228 - val_mean_squared_error: 21.0228\n",
      "Epoch 89/100\n",
      "30617/30617 [==============================] - 4s 147us/step - loss: 25.1904 - mean_squared_error: 25.1904 - val_loss: 31.0013 - val_mean_squared_error: 31.0013\n",
      "Epoch 90/100\n",
      "30617/30617 [==============================] - 6s 182us/step - loss: 25.0139 - mean_squared_error: 25.0139 - val_loss: 40.7314 - val_mean_squared_error: 40.7314\n",
      "Epoch 91/100\n",
      "30617/30617 [==============================] - 5s 157us/step - loss: 25.7793 - mean_squared_error: 25.7793 - val_loss: 31.3528 - val_mean_squared_error: 31.3528\n",
      "Epoch 92/100\n",
      "30617/30617 [==============================] - 6s 192us/step - loss: 25.8634 - mean_squared_error: 25.8634 - val_loss: 26.8519 - val_mean_squared_error: 26.8519\n",
      "Epoch 93/100\n",
      "30617/30617 [==============================] - 6s 189us/step - loss: 25.8014 - mean_squared_error: 25.8014 - val_loss: 48.2049 - val_mean_squared_error: 48.2049\n",
      "Epoch 94/100\n",
      "30617/30617 [==============================] - 5s 167us/step - loss: 26.0789 - mean_squared_error: 26.0789 - val_loss: 523.1517 - val_mean_squared_error: 523.1517\n",
      "Epoch 95/100\n"
     ]
    },
    {
     "name": "stdout",
     "output_type": "stream",
     "text": [
      "30617/30617 [==============================] - 18s 574us/step - loss: 25.7116 - mean_squared_error: 25.7116 - val_loss: 32.0163 - val_mean_squared_error: 32.0163\n",
      "Epoch 96/100\n",
      "30617/30617 [==============================] - 12s 391us/step - loss: 25.4372 - mean_squared_error: 25.4372 - val_loss: 60.9636 - val_mean_squared_error: 60.9636\n",
      "Epoch 97/100\n",
      "30617/30617 [==============================] - 4s 125us/step - loss: 26.0511 - mean_squared_error: 26.0511 - val_loss: 25.9324 - val_mean_squared_error: 25.9324\n",
      "Epoch 98/100\n",
      "30617/30617 [==============================] - 12s 406us/step - loss: 25.3619 - mean_squared_error: 25.3619 - val_loss: 64.4062 - val_mean_squared_error: 64.4062\n",
      "Epoch 99/100\n",
      "30617/30617 [==============================] - 6s 194us/step - loss: 25.9465 - mean_squared_error: 25.9465 - val_loss: 73.8177 - val_mean_squared_error: 73.8177\n",
      "Epoch 100/100\n",
      "30617/30617 [==============================] - 4s 115us/step - loss: 25.1312 - mean_squared_error: 25.1312 - val_loss: 36.7450 - val_mean_squared_error: 36.7450\n",
      "9568/9568 [==============================] - 1s 58us/step\n",
      "Error: 36.46765107374925\n"
     ]
    }
   ],
   "source": [
    "monitor_val_acc_2 = EarlyStopping(monitor = \"mse\", patience = 10)\n",
    "modelCheckpoint_2 = ModelCheckpoint(\"planta_electrica_sgd.hdf5\", save_best_only = True)\n",
    "\n",
    "history_2 = model_2.fit(x_train, y_train, epochs = 100, batch_size = 32,\n",
    "                        validation_split = 0.2, callbacks = [monitor_val_acc_2, modelCheckpoint_2])\n",
    "error_2 = model_2.evaluate(x_test, y_test)[1]\n",
    "print('Error:', error_2)"
   ]
  },
  {
   "cell_type": "code",
   "execution_count": 19,
   "metadata": {},
   "outputs": [
    {
     "data": {
      "text/plain": [
       "[<matplotlib.lines.Line2D at 0x14f7ed06cc0>]"
      ]
     },
     "execution_count": 19,
     "metadata": {},
     "output_type": "execute_result"
    },
    {
     "data": {
      "image/png": "[encoded data removed]",
      "text/plain": [
       "<Figure size 432x288 with 1 Axes>"
      ]
     },
     "metadata": {
      "needs_background": "light"
     },
     "output_type": "display_data"
    }
   ],
   "source": [
    "plt.figure()\n",
    "plt.plot(history_2.history['loss'])\n",
    "plt.plot(history_2.history['val_loss'])"
   ]
  },
  {
   "cell_type": "code",
   "execution_count": 20,
   "metadata": {},
   "outputs": [
    {
     "ename": "KeyError",
     "evalue": "'mse'",
     "output_type": "error",
     "traceback": [
      "\u001b[1;31m---------------------------------------------------------------------------\u001b[0m",
      "\u001b[1;31mKeyError\u001b[0m                                  Traceback (most recent call last)",
      "\u001b[1;32m<ipython-input-20-5752ebb384e8>\u001b[0m in \u001b[0;36m<module>\u001b[1;34m\u001b[0m\n\u001b[0;32m      1\u001b[0m \u001b[0mplt\u001b[0m\u001b[1;33m.\u001b[0m\u001b[0mfigure\u001b[0m\u001b[1;33m(\u001b[0m\u001b[1;33m)\u001b[0m\u001b[1;33m\u001b[0m\u001b[1;33m\u001b[0m\u001b[0m\n\u001b[1;32m----> 2\u001b[1;33m \u001b[0mplt\u001b[0m\u001b[1;33m.\u001b[0m\u001b[0mplot\u001b[0m\u001b[1;33m(\u001b[0m\u001b[0mhistory_2\u001b[0m\u001b[1;33m.\u001b[0m\u001b[0mhistory\u001b[0m\u001b[1;33m[\u001b[0m\u001b[1;34m'mse'\u001b[0m\u001b[1;33m]\u001b[0m\u001b[1;33m)\u001b[0m\u001b[1;33m\u001b[0m\u001b[1;33m\u001b[0m\u001b[0m\n\u001b[0m\u001b[0;32m      3\u001b[0m \u001b[0mplt\u001b[0m\u001b[1;33m.\u001b[0m\u001b[0mplot\u001b[0m\u001b[1;33m(\u001b[0m\u001b[0mhistory_2\u001b[0m\u001b[1;33m.\u001b[0m\u001b[0mhistory\u001b[0m\u001b[1;33m[\u001b[0m\u001b[1;34m'val_mse'\u001b[0m\u001b[1;33m]\u001b[0m\u001b[1;33m)\u001b[0m\u001b[1;33m\u001b[0m\u001b[1;33m\u001b[0m\u001b[0m\n",
      "\u001b[1;31mKeyError\u001b[0m: 'mse'"
     ]
    },
    {
     "data": {
      "text/plain": [
       "<Figure size 432x288 with 0 Axes>"
      ]
     },
     "metadata": {},
     "output_type": "display_data"
    }
   ],
   "source": [
    "plt.figure()\n",
    "plt.plot(history_2.history['mse'])\n",
    "plt.plot(history_2.history['val_mse'])"
   ]
  },
  {
   "cell_type": "markdown",
   "metadata": {},
   "source": []
  },
  {
   "cell_type": "code",
   "execution_count": null,
   "metadata": {},
   "outputs": [],
   "source": [
    "monitor_val_acc_2 = EarlyStopping(monitor = \"val_acc\", patience = 3)\n",
    "modelCheckpoint_2 = ModelCheckpoint(\"beer_no_batch.hdf5\", save_best_only = True)\n",
    "\n",
    "history_2 = model_1.fit(x_train, y_train, epochs = 100, validation_split = 0.2, callbacks = [monitor_val_acc_2, modelCheckpoint_2])\n",
    "accuracy_2 = model_1.evaluate(x_test, y_test)[1]\n",
    "print('Accuracy:', accuracy_2)"
   ]
  },
  {
   "cell_type": "code",
   "execution_count": null,
   "metadata": {},
   "outputs": [],
   "source": [
    "plt.figure()\n",
    "plt.plot(history_2.history['loss'])\n",
    "plt.plot(history_2.history['val_loss'])"
   ]
  },
  {
   "cell_type": "code",
   "execution_count": null,
   "metadata": {},
   "outputs": [],
   "source": [
    "plt.figure()\n",
    "plt.plot(history_2.history['accuracy'])\n",
    "plt.plot(history_2.history['val_accuracy'])"
   ]
  },
  {
   "cell_type": "code",
   "execution_count": null,
   "metadata": {},
   "outputs": [],
   "source": [
    "history_2 = norm_model.fit(x_train, y_train, epochs = 100, validation_split = 0.2, callbacks = [monitor_val_acc, modelCheckpoint])\n",
    "accuracy = norm_model.evaluate(x_test, y_test)[1]\n",
    "print('Accuracy:', accuracy)"
   ]
  },
  {
   "cell_type": "code",
   "execution_count": null,
   "metadata": {},
   "outputs": [],
   "source": [
    "plt.figure()\n",
    "plt.plot(history_2.history['loss'])\n",
    "plt.plot(history_2.history['val_loss'])"
   ]
  },
  {
   "cell_type": "code",
   "execution_count": null,
   "metadata": {},
   "outputs": [],
   "source": [
    "plt.figure()\n",
    "plt.plot(history_2.history['accuracy'])\n",
    "plt.plot(history_2.history['val_accuracy'])"
   ]
  }
 ],
 "metadata": {
  "kernelspec": {
   "display_name": "Python 3",
   "language": "python",
   "name": "python3"
  },
  "language_info": {
   "codemirror_mode": {
    "name": "ipython",
    "version": 3
   },
   "file_extension": ".py",
   "mimetype": "text/x-python",
   "name": "python",
   "nbconvert_exporter": "python",
   "pygments_lexer": "ipython3",
   "version": "3.7.1"
  }
 },
 "nbformat": 4,
 "nbformat_minor": 2
}
